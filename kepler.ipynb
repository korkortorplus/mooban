{
 "cells": [
  {
   "cell_type": "code",
   "execution_count": 18,
   "metadata": {},
   "outputs": [],
   "source": [
    "import geopandas as gpd\n",
    "gdf = gpd.read_parquet('Village/TH_Village.parquet')\n",
    "gdf[\"Lat\"] = gdf.geometry.apply(lambda p: p.y)\n",
    "gdf[\"Lng\"] = gdf.geometry.apply(lambda p: p.x)"
   ]
  },
  {
   "cell_type": "code",
   "execution_count": null,
   "metadata": {},
   "outputs": [],
   "source": []
  },
  {
   "cell_type": "code",
   "execution_count": 19,
   "metadata": {},
   "outputs": [
    {
     "data": {
      "text/html": [
       "<div>\n",
       "<style scoped>\n",
       "    .dataframe tbody tr th:only-of-type {\n",
       "        vertical-align: middle;\n",
       "    }\n",
       "\n",
       "    .dataframe tbody tr th {\n",
       "        vertical-align: top;\n",
       "    }\n",
       "\n",
       "    .dataframe thead th {\n",
       "        text-align: right;\n",
       "    }\n",
       "</style>\n",
       "<table border=\"1\" class=\"dataframe\">\n",
       "  <thead>\n",
       "    <tr style=\"text-align: right;\">\n",
       "      <th></th>\n",
       "      <th>Lat</th>\n",
       "      <th>Lng</th>\n",
       "    </tr>\n",
       "  </thead>\n",
       "  <tbody>\n",
       "    <tr>\n",
       "      <th>0</th>\n",
       "      <td>15.411058</td>\n",
       "      <td>100.119854</td>\n",
       "    </tr>\n",
       "    <tr>\n",
       "      <th>1</th>\n",
       "      <td>15.408375</td>\n",
       "      <td>100.114248</td>\n",
       "    </tr>\n",
       "    <tr>\n",
       "      <th>2</th>\n",
       "      <td>15.407443</td>\n",
       "      <td>100.119834</td>\n",
       "    </tr>\n",
       "    <tr>\n",
       "      <th>3</th>\n",
       "      <td>15.406627</td>\n",
       "      <td>100.102126</td>\n",
       "    </tr>\n",
       "    <tr>\n",
       "      <th>4</th>\n",
       "      <td>15.398529</td>\n",
       "      <td>100.094629</td>\n",
       "    </tr>\n",
       "    <tr>\n",
       "      <th>...</th>\n",
       "      <td>...</td>\n",
       "      <td>...</td>\n",
       "    </tr>\n",
       "    <tr>\n",
       "      <th>65208</th>\n",
       "      <td>8.370877</td>\n",
       "      <td>99.037837</td>\n",
       "    </tr>\n",
       "    <tr>\n",
       "      <th>65209</th>\n",
       "      <td>8.350901</td>\n",
       "      <td>99.248548</td>\n",
       "    </tr>\n",
       "    <tr>\n",
       "      <th>65210</th>\n",
       "      <td>8.330084</td>\n",
       "      <td>99.267607</td>\n",
       "    </tr>\n",
       "    <tr>\n",
       "      <th>65211</th>\n",
       "      <td>8.321031</td>\n",
       "      <td>99.278499</td>\n",
       "    </tr>\n",
       "    <tr>\n",
       "      <th>65212</th>\n",
       "      <td>8.318333</td>\n",
       "      <td>99.256701</td>\n",
       "    </tr>\n",
       "  </tbody>\n",
       "</table>\n",
       "<p>65213 rows × 2 columns</p>\n",
       "</div>"
      ],
      "text/plain": [
       "             Lat         Lng\n",
       "0      15.411058  100.119854\n",
       "1      15.408375  100.114248\n",
       "2      15.407443  100.119834\n",
       "3      15.406627  100.102126\n",
       "4      15.398529  100.094629\n",
       "...          ...         ...\n",
       "65208   8.370877   99.037837\n",
       "65209   8.350901   99.248548\n",
       "65210   8.330084   99.267607\n",
       "65211   8.321031   99.278499\n",
       "65212   8.318333   99.256701\n",
       "\n",
       "[65213 rows x 2 columns]"
      ]
     },
     "execution_count": 19,
     "metadata": {},
     "output_type": "execute_result"
    }
   ],
   "source": [
    "gdf[['Lat', 'Lng']]"
   ]
  },
  {
   "cell_type": "code",
   "execution_count": 20,
   "metadata": {},
   "outputs": [
    {
     "name": "stdout",
     "output_type": "stream",
     "text": [
      "User Guide: https://docs.kepler.gl/docs/keplergl-jupyter\n"
     ]
    },
    {
     "data": {
      "application/vnd.jupyter.widget-view+json": {
       "model_id": "b81c023062b1465eb79ccb85f2a188f2",
       "version_major": 2,
       "version_minor": 0
      },
      "text/plain": [
       "KeplerGl(data={'data_1':              Lat         Lng\n",
       "0      15.411058  100.119854\n",
       "1      15.408375  100.11424…"
      ]
     },
     "metadata": {},
     "output_type": "display_data"
    }
   ],
   "source": [
    "from keplergl import KeplerGl\n",
    "map_1 = KeplerGl(data={'data_1': gdf[['Lat', 'Lng']]}, height=600)\n",
    "map_1"
   ]
  },
  {
   "cell_type": "code",
   "execution_count": 3,
   "metadata": {},
   "outputs": [],
   "source": [
    "map_1.add_data(data=gdf, name='data_1')"
   ]
  },
  {
   "cell_type": "code",
   "execution_count": null,
   "metadata": {},
   "outputs": [],
   "source": []
  }
 ],
 "metadata": {
  "kernelspec": {
   "display_name": "Python 3 (ipykernel)",
   "language": "python",
   "name": "python3"
  },
  "language_info": {
   "codemirror_mode": {
    "name": "ipython",
    "version": 3
   },
   "file_extension": ".py",
   "mimetype": "text/x-python",
   "name": "python",
   "nbconvert_exporter": "python",
   "pygments_lexer": "ipython3",
   "version": "3.9.16"
  }
 },
 "nbformat": 4,
 "nbformat_minor": 4
}
