{
 "cells": [
  {
   "cell_type": "code",
   "execution_count": null,
   "metadata": {},
   "outputs": [],
   "source": [
    "# Test shapefile\n"
   ]
  },
  {
   "cell_type": "code",
   "execution_count": 1,
   "metadata": {},
   "outputs": [],
   "source": [
    "import geopandas as gpd"
   ]
  },
  {
   "cell_type": "code",
   "execution_count": 2,
   "metadata": {},
   "outputs": [],
   "source": [
    "gdf = gpd.read_file('Village\\TH_Village.shp')"
   ]
  },
  {
   "cell_type": "code",
   "execution_count": 3,
   "metadata": {},
   "outputs": [
    {
     "data": {
      "text/html": [
       "<div>\n",
       "<style scoped>\n",
       "    .dataframe tbody tr th:only-of-type {\n",
       "        vertical-align: middle;\n",
       "    }\n",
       "\n",
       "    .dataframe tbody tr th {\n",
       "        vertical-align: top;\n",
       "    }\n",
       "\n",
       "    .dataframe thead th {\n",
       "        text-align: right;\n",
       "    }\n",
       "</style>\n",
       "<table border=\"1\" class=\"dataframe\">\n",
       "  <thead>\n",
       "    <tr style=\"text-align: right;\">\n",
       "      <th></th>\n",
       "      <th>VILL_</th>\n",
       "      <th>VILL_ID</th>\n",
       "      <th>NAME</th>\n",
       "      <th>AMP_ID</th>\n",
       "      <th>TAM_NAME</th>\n",
       "      <th>AMP_NAME</th>\n",
       "      <th>PRV_NAME</th>\n",
       "      <th>geometry</th>\n",
       "    </tr>\n",
       "  </thead>\n",
       "  <tbody>\n",
       "    <tr>\n",
       "      <th>0</th>\n",
       "      <td>1</td>\n",
       "      <td>1</td>\n",
       "      <td>บ้านท่าลานเตียน</td>\n",
       "      <td>10902</td>\n",
       "      <td>ท่าฉนวน</td>\n",
       "      <td>มโนรมย์</td>\n",
       "      <td>ชัยนาท</td>\n",
       "      <td>POINT (620166.181 1704103.793)</td>\n",
       "    </tr>\n",
       "    <tr>\n",
       "      <th>1</th>\n",
       "      <td>2</td>\n",
       "      <td>4</td>\n",
       "      <td>บ้านหนองสะแก</td>\n",
       "      <td>10902</td>\n",
       "      <td>ท่าฉนวน</td>\n",
       "      <td>มโนรมย์</td>\n",
       "      <td>ชัยนาท</td>\n",
       "      <td>POINT (619566.179 1703803.791)</td>\n",
       "    </tr>\n",
       "    <tr>\n",
       "      <th>2</th>\n",
       "      <td>3</td>\n",
       "      <td>5</td>\n",
       "      <td>บ้านหัวยาง</td>\n",
       "      <td>10902</td>\n",
       "      <td>ท่าฉนวน</td>\n",
       "      <td>มโนรมย์</td>\n",
       "      <td>ชัยนาท</td>\n",
       "      <td>POINT (620166.181 1703703.791)</td>\n",
       "    </tr>\n",
       "    <tr>\n",
       "      <th>3</th>\n",
       "      <td>4</td>\n",
       "      <td>6</td>\n",
       "      <td>บ้านสะพานหิน</td>\n",
       "      <td>10902</td>\n",
       "      <td>ท่าฉนวน</td>\n",
       "      <td>มโนรมย์</td>\n",
       "      <td>ชัยนาท</td>\n",
       "      <td>POINT (618266.174 1703603.790)</td>\n",
       "    </tr>\n",
       "    <tr>\n",
       "      <th>4</th>\n",
       "      <td>5</td>\n",
       "      <td>9</td>\n",
       "      <td>บ้านทุ่งประพาส</td>\n",
       "      <td>10902</td>\n",
       "      <td>ท่าฉนวน</td>\n",
       "      <td>มโนรมย์</td>\n",
       "      <td>ชัยนาท</td>\n",
       "      <td>POINT (617466.172 1702703.786)</td>\n",
       "    </tr>\n",
       "  </tbody>\n",
       "</table>\n",
       "</div>"
      ],
      "text/plain": [
       "   VILL_  VILL_ID             NAME  AMP_ID TAM_NAME AMP_NAME PRV_NAME  \\\n",
       "0      1        1  บ้านท่าลานเตียน   10902  ท่าฉนวน  มโนรมย์   ชัยนาท   \n",
       "1      2        4     บ้านหนองสะแก   10902  ท่าฉนวน  มโนรมย์   ชัยนาท   \n",
       "2      3        5       บ้านหัวยาง   10902  ท่าฉนวน  มโนรมย์   ชัยนาท   \n",
       "3      4        6     บ้านสะพานหิน   10902  ท่าฉนวน  มโนรมย์   ชัยนาท   \n",
       "4      5        9   บ้านทุ่งประพาส   10902  ท่าฉนวน  มโนรมย์   ชัยนาท   \n",
       "\n",
       "                         geometry  \n",
       "0  POINT (620166.181 1704103.793)  \n",
       "1  POINT (619566.179 1703803.791)  \n",
       "2  POINT (620166.181 1703703.791)  \n",
       "3  POINT (618266.174 1703603.790)  \n",
       "4  POINT (617466.172 1702703.786)  "
      ]
     },
     "execution_count": 3,
     "metadata": {},
     "output_type": "execute_result"
    }
   ],
   "source": [
    "gdf.head()"
   ]
  },
  {
   "cell_type": "code",
   "execution_count": null,
   "metadata": {},
   "outputs": [],
   "source": []
  },
  {
   "cell_type": "code",
   "execution_count": 5,
   "metadata": {},
   "outputs": [
    {
     "data": {
      "text/plain": [
       "<Axes: >"
      ]
     },
     "execution_count": 5,
     "metadata": {},
     "output_type": "execute_result"
    },
    {
     "data": {
      "image/png": "[encoded data removed]",
      "text/plain": [
       "<Figure size 640x480 with 1 Axes>"
      ]
     },
     "metadata": {},
     "output_type": "display_data"
    }
   ],
   "source": [
    "# plot the shapefile\n",
    "gdf.plot(marker='*', color='green', markersize=1)"
   ]
  },
  {
   "cell_type": "code",
   "execution_count": null,
   "metadata": {},
   "outputs": [],
   "source": []
  }
 ],
 "metadata": {
  "kernelspec": {
   "display_name": "mooban",
   "language": "python",
   "name": "python3"
  },
  "language_info": {
   "codemirror_mode": {
    "name": "ipython",
    "version": 3
   },
   "file_extension": ".py",
   "mimetype": "text/x-python",
   "name": "python",
   "nbconvert_exporter": "python",
   "pygments_lexer": "ipython3",
   "version": "3.9.16"
  },
  "orig_nbformat": 4
 },
 "nbformat": 4,
 "nbformat_minor": 2
}
