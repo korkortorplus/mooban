{
 "cells": [
  {
   "cell_type": "code",
   "execution_count": 31,
   "metadata": {},
   "outputs": [],
   "source": [
    "import geopandas as gpd"
   ]
  },
  {
   "cell_type": "code",
   "execution_count": 32,
   "metadata": {},
   "outputs": [],
   "source": [
    "gdf = gpd.read_file('Village/TH_Village.shp')"
   ]
  },
  {
   "cell_type": "code",
   "execution_count": 33,
   "metadata": {},
   "outputs": [
    {
     "data": {
      "text/html": [
       "<div>\n",
       "<style scoped>\n",
       "    .dataframe tbody tr th:only-of-type {\n",
       "        vertical-align: middle;\n",
       "    }\n",
       "\n",
       "    .dataframe tbody tr th {\n",
       "        vertical-align: top;\n",
       "    }\n",
       "\n",
       "    .dataframe thead th {\n",
       "        text-align: right;\n",
       "    }\n",
       "</style>\n",
       "<table border=\"1\" class=\"dataframe\">\n",
       "  <thead>\n",
       "    <tr style=\"text-align: right;\">\n",
       "      <th></th>\n",
       "      <th>VILL_</th>\n",
       "      <th>VILL_ID</th>\n",
       "      <th>NAME</th>\n",
       "      <th>AMP_ID</th>\n",
       "      <th>TAM_NAME</th>\n",
       "      <th>AMP_NAME</th>\n",
       "      <th>PRV_NAME</th>\n",
       "      <th>geometry</th>\n",
       "    </tr>\n",
       "  </thead>\n",
       "  <tbody>\n",
       "    <tr>\n",
       "      <th>0</th>\n",
       "      <td>1</td>\n",
       "      <td>1</td>\n",
       "      <td>บ้านท่าลานเตียน</td>\n",
       "      <td>10902</td>\n",
       "      <td>ท่าฉนวน</td>\n",
       "      <td>มโนรมย์</td>\n",
       "      <td>ชัยนาท</td>\n",
       "      <td>POINT (620166.181 1704103.793)</td>\n",
       "    </tr>\n",
       "    <tr>\n",
       "      <th>1</th>\n",
       "      <td>2</td>\n",
       "      <td>4</td>\n",
       "      <td>บ้านหนองสะแก</td>\n",
       "      <td>10902</td>\n",
       "      <td>ท่าฉนวน</td>\n",
       "      <td>มโนรมย์</td>\n",
       "      <td>ชัยนาท</td>\n",
       "      <td>POINT (619566.179 1703803.791)</td>\n",
       "    </tr>\n",
       "    <tr>\n",
       "      <th>2</th>\n",
       "      <td>3</td>\n",
       "      <td>5</td>\n",
       "      <td>บ้านหัวยาง</td>\n",
       "      <td>10902</td>\n",
       "      <td>ท่าฉนวน</td>\n",
       "      <td>มโนรมย์</td>\n",
       "      <td>ชัยนาท</td>\n",
       "      <td>POINT (620166.181 1703703.791)</td>\n",
       "    </tr>\n",
       "    <tr>\n",
       "      <th>3</th>\n",
       "      <td>4</td>\n",
       "      <td>6</td>\n",
       "      <td>บ้านสะพานหิน</td>\n",
       "      <td>10902</td>\n",
       "      <td>ท่าฉนวน</td>\n",
       "      <td>มโนรมย์</td>\n",
       "      <td>ชัยนาท</td>\n",
       "      <td>POINT (618266.174 1703603.790)</td>\n",
       "    </tr>\n",
       "    <tr>\n",
       "      <th>4</th>\n",
       "      <td>5</td>\n",
       "      <td>9</td>\n",
       "      <td>บ้านทุ่งประพาส</td>\n",
       "      <td>10902</td>\n",
       "      <td>ท่าฉนวน</td>\n",
       "      <td>มโนรมย์</td>\n",
       "      <td>ชัยนาท</td>\n",
       "      <td>POINT (617466.172 1702703.786)</td>\n",
       "    </tr>\n",
       "  </tbody>\n",
       "</table>\n",
       "</div>"
      ],
      "text/plain": [
       "   VILL_  VILL_ID             NAME  AMP_ID TAM_NAME AMP_NAME PRV_NAME   \n",
       "0      1        1  บ้านท่าลานเตียน   10902  ท่าฉนวน  มโนรมย์   ชัยนาท  \\\n",
       "1      2        4     บ้านหนองสะแก   10902  ท่าฉนวน  มโนรมย์   ชัยนาท   \n",
       "2      3        5       บ้านหัวยาง   10902  ท่าฉนวน  มโนรมย์   ชัยนาท   \n",
       "3      4        6     บ้านสะพานหิน   10902  ท่าฉนวน  มโนรมย์   ชัยนาท   \n",
       "4      5        9   บ้านทุ่งประพาส   10902  ท่าฉนวน  มโนรมย์   ชัยนาท   \n",
       "\n",
       "                         geometry  \n",
       "0  POINT (620166.181 1704103.793)  \n",
       "1  POINT (619566.179 1703803.791)  \n",
       "2  POINT (620166.181 1703703.791)  \n",
       "3  POINT (618266.174 1703603.790)  \n",
       "4  POINT (617466.172 1702703.786)  "
      ]
     },
     "execution_count": 33,
     "metadata": {},
     "output_type": "execute_result"
    }
   ],
   "source": [
    "gdf.head()"
   ]
  },
  {
   "attachments": {},
   "cell_type": "markdown",
   "metadata": {},
   "source": [
    "# Transform to h3 since space db has only prefix matching.\n",
    "\n",
    "use res = 14, for the 14th resolution of h3, which is about 1.5m.\n",
    "\n",
    "<https://h3geo.org/docs/core-library/restable>"
   ]
  },
  {
   "cell_type": "code",
   "execution_count": 34,
   "metadata": {},
   "outputs": [],
   "source": [
    "import h3"
   ]
  },
  {
   "cell_type": "code",
   "execution_count": 35,
   "metadata": {},
   "outputs": [
    {
     "data": {
      "text/plain": [
       "{'c': '4.0.0', 'python': '4.0.0b2'}"
      ]
     },
     "execution_count": 35,
     "metadata": {},
     "output_type": "execute_result"
    }
   ],
   "source": [
    "h3.versions()"
   ]
  },
  {
   "cell_type": "code",
   "execution_count": 36,
   "metadata": {},
   "outputs": [],
   "source": [
    "# to lat, lng\n",
    "gdf = gdf.to_crs(epsg=4326)\n"
   ]
  },
  {
   "cell_type": "code",
   "execution_count": 37,
   "metadata": {},
   "outputs": [],
   "source": [
    "\n",
    "# apply h3 to geodataframe\n",
    "gdf['h3'] = gdf.geometry.apply(lambda p: h3.latlng_to_cell(p.y, p.x, 14))"
   ]
  },
  {
   "cell_type": "code",
   "execution_count": 38,
   "metadata": {},
   "outputs": [],
   "source": [
    "# apply h3 to geodataframe\n",
    "gdf['h3_int'] = gdf.h3.apply(lambda x: h3.str_to_int(x))"
   ]
  },
  {
   "cell_type": "code",
   "execution_count": 39,
   "metadata": {},
   "outputs": [],
   "source": [
    "# change column name to title case except geometry\n",
    "gdf.columns = [c.title() if c != 'geometry' else c for c in gdf.columns]"
   ]
  },
  {
   "cell_type": "code",
   "execution_count": 40,
   "metadata": {},
   "outputs": [],
   "source": [
    "gdf.to_parquet('Village/TH_Village.parquet')"
   ]
  },
  {
   "cell_type": "code",
   "execution_count": 41,
   "metadata": {},
   "outputs": [],
   "source": [
    "gdf.to_file('Village/TH_Village.geojson', driver=\"GeoJSON\")  "
   ]
  },
  {
   "attachments": {},
   "cell_type": "markdown",
   "metadata": {},
   "source": [
    "# Convert for kepler.gl\n",
    "<https://docs.kepler.gl/docs/user-guides/b-kepler-gl-workflow/a-add-data-to-the-map#csv>"
   ]
  },
  {
   "cell_type": "code",
   "execution_count": 27,
   "metadata": {},
   "outputs": [],
   "source": [
    "gdf[\"Lat\"] = gdf.geometry.apply(lambda p: p.y)\n",
    "gdf[\"Lng\"] = gdf.geometry.apply(lambda p: p.x)"
   ]
  },
  {
   "cell_type": "code",
   "execution_count": 28,
   "metadata": {},
   "outputs": [
    {
     "data": {
      "text/plain": [
       "Index(['Vill_', 'Vill_Id', 'Name', 'Amp_Id', 'Tam_Name', 'Amp_Name',\n",
       "       'Prv_Name', 'geometry', 'H3', 'H3_Int', 'lat', 'lng'],\n",
       "      dtype='object')"
      ]
     },
     "execution_count": 28,
     "metadata": {},
     "output_type": "execute_result"
    }
   ],
   "source": [
    "gdf.columns"
   ]
  },
  {
   "cell_type": "code",
   "execution_count": null,
   "metadata": {},
   "outputs": [],
   "source": []
  },
  {
   "cell_type": "code",
   "execution_count": 29,
   "metadata": {},
   "outputs": [],
   "source": [
    "gdf.to_csv('Village/TH_Village.csv')"
   ]
  },
  {
   "cell_type": "code",
   "execution_count": 30,
   "metadata": {},
   "outputs": [],
   "source": [
    "from operator import index\n",
    "\n",
    "\n",
    "gdf[['H3']].to_csv('Village/TH_Village_h3.csv', index=False)\n"
   ]
  },
  {
   "cell_type": "code",
   "execution_count": null,
   "metadata": {},
   "outputs": [],
   "source": []
  }
 ],
 "metadata": {
  "kernelspec": {
   "display_name": "mooban",
   "language": "python",
   "name": "python3"
  },
  "language_info": {
   "codemirror_mode": {
    "name": "ipython",
    "version": 3
   },
   "file_extension": ".py",
   "mimetype": "text/x-python",
   "name": "python",
   "nbconvert_exporter": "python",
   "pygments_lexer": "ipython3",
   "version": "3.9.16"
  },
  "orig_nbformat": 4
 },
 "nbformat": 4,
 "nbformat_minor": 2
}
